{
 "cells": [
  {
   "cell_type": "code",
   "execution_count": 2,
   "metadata": {},
   "outputs": [],
   "source": [
    "import pandas as pd\n",
    "import numpy as np\n",
    "import matplotlib.pyplot as plt\n",
    "import seaborn as sns\n",
    "from sklearn.model_selection import train_test_split\n",
    "from sklearn.preprocessing import LabelEncoder, StandardScaler\n",
    "from sklearn.ensemble import RandomForestClassifier\n",
    "from sklearn.metrics import accuracy_score, classification_report, confusion_matrix, precision_score, recall_score, f1_score\n",
    "import joblib"
   ]
  },
  {
   "cell_type": "code",
   "execution_count": null,
   "metadata": {},
   "outputs": [
    {
     "name": "stderr",
     "output_type": "stream",
     "text": [
      "C:\\Users\\jayak\\AppData\\Local\\Temp\\ipykernel_4212\\2376408252.py:9: FutureWarning: A value is trying to be set on a copy of a DataFrame or Series through chained assignment using an inplace method.\n",
      "The behavior will change in pandas 3.0. This inplace method will never work because the intermediate object on which we are setting values always behaves as a copy.\n",
      "\n",
      "For example, when doing 'df[col].method(value, inplace=True)', try using 'df.method({col: value}, inplace=True)' or df[col] = df[col].method(value) instead, to perform the operation inplace on the original object.\n",
      "\n",
      "\n",
      "  df[\"funding_per_employee\"].replace([np.inf, -np.inf], np.nan, inplace=True)\n",
      "C:\\Users\\jayak\\AppData\\Local\\Temp\\ipykernel_4212\\2376408252.py:10: FutureWarning: A value is trying to be set on a copy of a DataFrame or Series through chained assignment using an inplace method.\n",
      "The behavior will change in pandas 3.0. This inplace method will never work because the intermediate object on which we are setting values always behaves as a copy.\n",
      "\n",
      "For example, when doing 'df[col].method(value, inplace=True)', try using 'df.method({col: value}, inplace=True)' or df[col] = df[col].method(value) instead, to perform the operation inplace on the original object.\n",
      "\n",
      "\n",
      "  df[\"funding_per_employee\"].fillna(df[\"funding_per_employee\"].median(), inplace=True)\n"
     ]
    }
   ],
   "source": [
    "# Now process the holdout.csv\n",
    "df=pd.read_csv(\"holdout.csv\")\n",
    "df[\"last_funding_date\"] = pd.to_datetime(df[\"last_funding_date\"], errors=\"coerce\")\n",
    "df[\"last_funding_year\"] = df[\"last_funding_date\"].dt.year\n",
    "df[\"last_funding_month\"] = df[\"last_funding_date\"].dt.month\n",
    "label_encoder = LabelEncoder()\n",
    "df[\"industry\"] = label_encoder.fit_transform(df[\"industry\"])\n",
    "upper_bound = df[\"funding_per_employee\"].quantile(0.99)\n",
    "df[\"funding_per_employee\"].replace([np.inf, -np.inf], np.nan, inplace=True)\n",
    "df[\"funding_per_employee\"].fillna(df[\"funding_per_employee\"].median(), inplace=True)\n",
    "df[\"funding_per_employee\"] = df[\"funding_per_employee\"].clip(upper=upper_bound)\n",
    "a=df[\"company_id\"]\n",
    "df.drop(columns=[\"company_name\", \"last_funding_date\", \"hiring_roles\"], inplace=True)\n",
    "X_holdout = df.drop(columns=[\"company_id\"])\n",
    "scaler = joblib.load(\"scaler.pkl\")\n",
    "X_holdout_scaled = scaler.transform(X_holdout)\n",
    "# Load the model from the pickle file\n",
    "rf_model = joblib.load(\"rf_model.pkl\")\n",
    "y_holdout = rf_model.predict(X_holdout_scaled)\n",
    "result=pd.DataFrame(columns=[\"company_id\",\"is_hot_lead\"])\n",
    "result[\"company_id\"]=a\n",
    "result[\"is_hot_lead\"]=y_holdout\n",
    "result.to_csv(\"submission.csv\",index=False)\n",
    "# Output is stored in submission.csv"
   ]
  },
  {
   "cell_type": "code",
   "execution_count": null,
   "metadata": {},
   "outputs": [],
   "source": []
  }
 ],
 "metadata": {
  "kernelspec": {
   "display_name": "Python 3",
   "language": "python",
   "name": "python3"
  },
  "language_info": {
   "codemirror_mode": {
    "name": "ipython",
    "version": 3
   },
   "file_extension": ".py",
   "mimetype": "text/x-python",
   "name": "python",
   "nbconvert_exporter": "python",
   "pygments_lexer": "ipython3",
   "version": "3.13.1"
  }
 },
 "nbformat": 4,
 "nbformat_minor": 2
}
